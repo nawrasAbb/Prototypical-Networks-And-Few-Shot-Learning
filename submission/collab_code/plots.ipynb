{
  "nbformat": 4,
  "nbformat_minor": 0,
  "metadata": {
    "colab": {
      "name": "plots.ipynb",
      "provenance": [],
      "collapsed_sections": []
    },
    "kernelspec": {
      "name": "python3",
      "display_name": "Python 3"
    },
    "language_info": {
      "name": "python"
    }
  },
  "cells": [
    {
      "cell_type": "code",
      "metadata": {
        "id": "i5Kb_84NVzvk"
      },
      "source": [
        "\"\"\"\n",
        "Authors:\n",
        "Nawras Abbas    315085043\n",
        "Michael Bikman  317920999\n",
        "\"\"\"\n",
        "\n",
        "import matplotlib.pyplot as plt\n",
        "\n",
        "FILE = r'D:\\GIT\\DL_HW_21\\project\\reports\\2021_08_22-20_15_02_report_5way_resnet12_small_train\\2021_08_22-20_15_02.log'\n",
        "\n",
        "\n",
        "def main():\n",
        "    with open(FILE) as f:\n",
        "        train_acc_per_epoch = []\n",
        "        train_loss_per_epoch = []\n",
        "        valid_acc_per_epoch = []\n",
        "        valid_loss_per_epoch = []\n",
        "        for line in f:\n",
        "            if line.startswith('--------Run result'):\n",
        "                break\n",
        "            if line.startswith('train acc:'):\n",
        "                t_acc = float(line.split(':')[1].strip())\n",
        "                train_acc_per_epoch.append(t_acc)\n",
        "            if line.startswith('train loss:'):\n",
        "                t_loss = float(line.split(':')[1].strip())\n",
        "                train_loss_per_epoch.append(t_loss)\n",
        "            if line.startswith('validation acc:'):\n",
        "                v_acc = float(line.split(':')[1].strip())\n",
        "                valid_acc_per_epoch.append(v_acc)\n",
        "            if line.startswith('validation loss:'):\n",
        "                v_loss = float(line.split(':')[1].strip())\n",
        "                valid_loss_per_epoch.append(v_loss)\n",
        "\n",
        "        if len(train_acc_per_epoch) != len(train_loss_per_epoch) or \\\n",
        "                len(valid_acc_per_epoch) != len(valid_loss_per_epoch):\n",
        "            raise ValueError('Inconsistent data!')\n",
        "\n",
        "        xs = range(1, len(train_acc_per_epoch) + 1)\n",
        "\n",
        "        fig, axes = plt.subplots(2)\n",
        "\n",
        "        axes[0].plot(xs, train_acc_per_epoch, 'r', label='train')\n",
        "        axes[0].plot(xs, valid_acc_per_epoch, 'g', label='valid')\n",
        "        axes[0].set_xlabel(\"epoch\")\n",
        "        axes[0].set_ylabel(\"accuracy\")\n",
        "        axes[0].legend(loc='upper left')\n",
        "\n",
        "        axes[1].plot(xs, train_loss_per_epoch, 'r', label='train')\n",
        "        axes[1].plot(xs, valid_loss_per_epoch, 'g', label='valid')\n",
        "        axes[1].set_xlabel(\"epoch\")\n",
        "        axes[1].set_ylabel(\"loss\")\n",
        "        axes[1].legend(loc='upper right')\n",
        "        plt.subplots_adjust(hspace=0.45)\n",
        "        plt.show()\n"
      ],
      "execution_count": null,
      "outputs": []
    },
    {
      "cell_type": "code",
      "metadata": {
        "id": "B2IATIzUV--n"
      },
      "source": [
        "if __name__ == '__main__':\n",
        "    main()\n",
        "    print('OK')"
      ],
      "execution_count": null,
      "outputs": []
    },
    {
      "cell_type": "code",
      "metadata": {
        "id": "Xz3N5AUUV_B_"
      },
      "source": [
        "from google.colab import drive\n",
        "drive.mount('/content/drive')"
      ],
      "execution_count": null,
      "outputs": []
    }
  ]
}